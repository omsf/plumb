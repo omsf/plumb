{
 "cells": [
  {
   "cell_type": "code",
   "execution_count": null,
   "id": "initial_id",
   "metadata": {
    "collapsed": true
   },
   "outputs": [],
   "source": [
    "from openeye import oespruce, oegrapheme, oedepict\n",
    "from pathlib import Path"
   ]
  },
  {
   "cell_type": "code",
   "outputs": [],
   "source": [
    "oedu = \"/Users/alexpayne/Scientific_Projects/plumb/rough-drafts/output/3T60_BindingDB_50173538_mol_1_spruced_complex-8827dcd1fce4085cfd2c0d2f1ae44e640fc9c6d25906d9adcbccc406fdc588c6+TUZNCXRMWDUVNX-PITICAILNA-O/3T60_BindingDB_50173538_mol_1_spruced_complex.oedu\""
   ],
   "metadata": {
    "collapsed": false
   },
   "id": "6bcbff6809c5ce0e",
   "execution_count": null
  },
  {
   "cell_type": "code",
   "outputs": [],
   "source": [
    "stem = Path(oedu).stem"
   ],
   "metadata": {
    "collapsed": false
   },
   "id": "ca030b2e63e89030",
   "execution_count": null
  },
  {
   "cell_type": "code",
   "outputs": [],
   "source": [
    "from asapdiscovery.data.backend.openeye import load_openeye_design_unit"
   ],
   "metadata": {
    "collapsed": false
   },
   "id": "e9380153602cff16",
   "execution_count": null
  },
  {
   "cell_type": "code",
   "outputs": [],
   "source": [
    "du = load_openeye_design_unit(oedu)"
   ],
   "metadata": {
    "collapsed": false
   },
   "id": "f1bbf22079402d57",
   "execution_count": null
  },
  {
   "cell_type": "code",
   "outputs": [],
   "source": [
    "validator = oespruce.OEValidateDesignUnit()\n",
    "with open(f'{stem}_errors.txt', 'w') as f:\n",
    "    f.write(validator.GetMessages(validator.Validate(du)))"
   ],
   "metadata": {
    "collapsed": false
   },
   "id": "886cc9187c66bd91",
   "execution_count": null
  },
  {
   "cell_type": "code",
   "outputs": [],
   "source": [
    "sq = du.GetStructureQuality()"
   ],
   "metadata": {
    "collapsed": false
   },
   "id": "68542007ef4e3a5c",
   "execution_count": null
  },
  {
   "cell_type": "code",
   "outputs": [],
   "source": [
    "sq.HasIridiumData()"
   ],
   "metadata": {
    "collapsed": false
   },
   "id": "e327a0dbf4c67466",
   "execution_count": null
  },
  {
   "cell_type": "code",
   "outputs": [],
   "source": [
    "du?"
   ],
   "metadata": {
    "collapsed": false
   },
   "id": "f79394d7842c5db2",
   "execution_count": null
  },
  {
   "cell_type": "code",
   "outputs": [],
   "source": [
    "ird = sq.GetIridiumData()"
   ],
   "metadata": {
    "collapsed": false
   },
   "id": "c2bd96bb977c438d",
   "execution_count": null
  },
  {
   "cell_type": "code",
   "outputs": [],
   "source": [
    "ird.DetermineCategory()"
   ],
   "metadata": {
    "collapsed": false
   },
   "id": "31e9dc87c964c9fe",
   "execution_count": null
  },
  {
   "cell_type": "code",
   "outputs": [],
   "source": [
    "from openeye import oechem"
   ],
   "metadata": {
    "collapsed": false
   },
   "id": "45d5ac47308dfdd",
   "execution_count": null
  },
  {
   "cell_type": "code",
   "outputs": [],
   "source": [
    "oechem.OEGetIridiumCategoryName(ird.GetCategory())"
   ],
   "metadata": {
    "collapsed": false
   },
   "id": "b1c16ccda79cd16a",
   "execution_count": null
  },
  {
   "cell_type": "code",
   "outputs": [],
   "source": [
    "image = oedepict.OEImage(250, 250)\n",
    "oegrapheme.OEDrawIridiumData(image, ird)\n",
    "oedepict.OEDrawBorder(image, oedepict.OELightGreyPen)\n",
    "oedepict.OEWriteImage(f\"{stem}.svg\", image)"
   ],
   "metadata": {
    "collapsed": false
   },
   "id": "6d14d73b37af2e5e",
   "execution_count": null
  },
  {
   "cell_type": "markdown",
   "source": [
    "oh we don't want to use iridium i think bc it requires the mtz file which the PDB no longer supports\n",
    "https://www.rcsb.org/docs/general-help/x-ray-electron-density-maps"
   ],
   "metadata": {
    "collapsed": false
   },
   "id": "594d06ac912217e3"
  },
  {
   "cell_type": "code",
   "outputs": [],
   "source": [],
   "metadata": {
    "collapsed": false
   },
   "id": "4a0d596ecc1f036c"
  }
 ],
 "metadata": {
  "kernelspec": {
   "display_name": "Python 3",
   "language": "python",
   "name": "python3"
  },
  "language_info": {
   "codemirror_mode": {
    "name": "ipython",
    "version": 2
   },
   "file_extension": ".py",
   "mimetype": "text/x-python",
   "name": "python",
   "nbconvert_exporter": "python",
   "pygments_lexer": "ipython2",
   "version": "2.7.6"
  }
 },
 "nbformat": 4,
 "nbformat_minor": 5
}
