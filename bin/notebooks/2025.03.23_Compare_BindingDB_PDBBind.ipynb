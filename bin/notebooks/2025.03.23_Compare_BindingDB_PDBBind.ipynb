{
 "cells": [
  {
   "cell_type": "code",
   "execution_count": 4,
   "id": "370e8eee-7303-4669-b4a2-d89bf19fee11",
   "metadata": {},
   "outputs": [],
   "source": [
    "from rdkit import Chem\n",
    "import pandas as pd"
   ]
  },
  {
   "cell_type": "code",
   "execution_count": 5,
   "id": "4bdd172c-916b-4787-a6ef-175dc6d47157",
   "metadata": {},
   "outputs": [
    {
     "ename": "OSError",
     "evalue": "File error: Bad input file /home/brennera/mystore/data/bind_db/full_bindin",
     "output_type": "error",
     "traceback": [
      "\u001b[31m---------------------------------------------------------------------------\u001b[39m",
      "\u001b[31mOSError\u001b[39m                                   Traceback (most recent call last)",
      "\u001b[36mCell\u001b[39m\u001b[36m \u001b[39m\u001b[32mIn[5]\u001b[39m\u001b[32m, line 2\u001b[39m\n\u001b[32m      1\u001b[39m filename = \u001b[33m\"\u001b[39m\u001b[33m/home/brennera/mystore/data/bind_db/full_bindin\u001b[39m\u001b[33m\"\u001b[39m  \u001b[38;5;66;03m# replace with actual path\u001b[39;00m\n\u001b[32m----> \u001b[39m\u001b[32m2\u001b[39m supplier = \u001b[43mChem\u001b[49m\u001b[43m.\u001b[49m\u001b[43mForwardSDMolSupplier\u001b[49m\u001b[43m(\u001b[49m\u001b[43mfilename\u001b[49m\u001b[43m)\u001b[49m\n\u001b[32m      4\u001b[39m unique_pdb_ids = \u001b[38;5;28mset\u001b[39m()\n\u001b[32m      5\u001b[39m batch_size = \u001b[32m5000\u001b[39m\n",
      "\u001b[31mOSError\u001b[39m: File error: Bad input file /home/brennera/mystore/data/bind_db/full_bindin"
     ]
    }
   ],
   "source": [
    "filename = \"/home/brennera/mystore/data/bind_db/full_bindingdb/BindingDB_All_3D.sdf\"  # replace with actual path\n",
    "supplier = Chem.ForwardSDMolSupplier(filename)\n",
    "\n",
    "unique_pdb_ids = set()\n",
    "batch_size = 5000\n",
    "batch = []\n",
    "\n",
    "for i, mol in enumerate(supplier):\n",
    "    if mol is None:\n",
    "        continue\n",
    "\n",
    "    batch.append({'ROMol': mol, **mol.GetPropsAsDict()})\n",
    "\n",
    "    if len(batch) == batch_size:\n",
    "        df = pd.DataFrame(batch)\n",
    "\n",
    "        pdb_id_lists = [\n",
    "            [pdb.strip() for pdb in str(pdb_string).split(',') if pdb.strip()]\n",
    "            if pd.notna(pdb_string) else []\n",
    "            for pdb_string in df['PDB ID(s) of Target Chain']\n",
    "        ]\n",
    "\n",
    "        unique_pdb_ids.update(pdb_id for sublist in pdb_id_lists for pdb_id in sublist)\n",
    "\n",
    "        batch = []\n",
    "\n",
    "# Process remaining molecules\n",
    "if batch:\n",
    "    df = pd.DataFrame(batch)\n",
    "    pdb_id_lists = [\n",
    "        [pdb.strip() for pdb in str(pdb_string).split(',') if pdb.strip()]\n",
    "        if pd.notna(pdb_string) else []\n",
    "        for pdb_string in df['PDB ID(s) of Target Chain']\n",
    "    ]\n",
    "    unique_pdb_ids.update(pdb_id for sublist in pdb_id_lists for pdb_id in sublist)\n",
    "\n",
    "# Final flat, sorted list of unique PDB IDs\n",
    "flat_unique_pdb_ids = sorted(unique_pdb_ids)\n"
   ]
  },
  {
   "cell_type": "code",
   "execution_count": null,
   "id": "9ceb258a-1d45-4e48-8a02-93b98146757a",
   "metadata": {},
   "outputs": [],
   "source": [
    "flat_unique_pdb_ids"
   ]
  },
  {
   "cell_type": "code",
   "execution_count": null,
   "id": "f554fe99-9160-4677-8486-5dd05474a46c",
   "metadata": {},
   "outputs": [],
   "source": []
  }
 ],
 "metadata": {
  "kernelspec": {
   "display_name": "Python (notebook_env)",
   "language": "python",
   "name": "notebook_env"
  },
  "language_info": {
   "codemirror_mode": {
    "name": "ipython",
    "version": 3
   },
   "file_extension": ".py",
   "mimetype": "text/x-python",
   "name": "python",
   "nbconvert_exporter": "python",
   "pygments_lexer": "ipython3",
   "version": "3.12.9"
  }
 },
 "nbformat": 4,
 "nbformat_minor": 5
}
